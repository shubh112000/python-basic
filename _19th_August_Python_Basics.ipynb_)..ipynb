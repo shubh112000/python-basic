{
 "cells": [
  {
   "cell_type": "markdown",
   "id": "44f69733-4f01-49a0-bd75-ddb0505209d4",
   "metadata": {},
   "source": [
    "Assignment"
   ]
  },
  {
   "cell_type": "markdown",
   "id": "1d39bc1c-7722-4b3b-b869-1bda2ac0d7d7",
   "metadata": {},
   "source": [
    "TOPIC: Python Basics Variable"
   ]
  },
  {
   "cell_type": "markdown",
   "id": "5ba3e0f5-d3f8-4544-b5f7-eb1f2da41f77",
   "metadata": {},
   "source": [
    "1. Declare two variables, `x` and `y`, and assign them integer values. Swap the\n",
    "values of these variables without using any temporary variable."
   ]
  },
  {
   "cell_type": "code",
   "execution_count": 10,
   "id": "2bbd9b2d-527b-44ce-99b0-4db8668bcf5f",
   "metadata": {},
   "outputs": [
    {
     "name": "stdout",
     "output_type": "stream",
     "text": [
      "swaping value of x 13\n",
      "swaping value of y 12\n"
     ]
    }
   ],
   "source": [
    "x=12\n",
    "y=13\n",
    "x,y=y,x\n",
    "print(\"swaping value of x\",x)\n",
    "print(\"swaping value of y\",y)"
   ]
  },
  {
   "cell_type": "markdown",
   "id": "ba69376b-dfa2-446d-a2cf-d8b1d501c428",
   "metadata": {},
   "source": [
    "2. Create a program that calculates the area of a rectangle. Take the length and\n",
    "width as inputs from the user and store them in variables. Calculate and\n",
    "display the area."
   ]
  },
  {
   "cell_type": "code",
   "execution_count": 15,
   "id": "ba50a94a-9f52-4de9-bbb6-33ecf6fbfb04",
   "metadata": {},
   "outputs": [
    {
     "name": "stdin",
     "output_type": "stream",
     "text": [
      "Enter the value of length 12\n",
      "Enter the value of width 34\n"
     ]
    },
    {
     "name": "stdout",
     "output_type": "stream",
     "text": [
      "total area of rectangle 46.0\n"
     ]
    }
   ],
   "source": [
    "c=input(\"Enter the value of length\")\n",
    "d=input(\"Enter the value of width\")\n",
    "e=float(c)+float(d)\n",
    "print(\"total area of rectangle\",e)"
   ]
  },
  {
   "cell_type": "markdown",
   "id": "984df689-b0fc-4e5a-b53b-e41c44082fa5",
   "metadata": {},
   "source": [
    "3. Write a Python program that converts temperatures from Celsius to\n",
    "Fahrenheit. Take the temperature in Celsius as input, store it in a variable,\n",
    "convert it to Fahrenheit, and display the result."
   ]
  },
  {
   "cell_type": "code",
   "execution_count": 25,
   "id": "cf6557c3-2cb4-4039-8623-aaa57dfc5f61",
   "metadata": {},
   "outputs": [
    {
     "name": "stdin",
     "output_type": "stream",
     "text": [
      "Enter the temperture in celsius 12\n"
     ]
    },
    {
     "name": "stdout",
     "output_type": "stream",
     "text": [
      "convert into Fahrenheit 53.6\n"
     ]
    }
   ],
   "source": [
    "z=float(input(\"Enter the temperture in celsius\"))\n",
    "Fahrenheit =  z * 9/5 + 32\n",
    "print(\"convert into Fahrenheit\",Fahrenheit)\n"
   ]
  },
  {
   "cell_type": "markdown",
   "id": "8213dcaa-ffff-4ecc-bcfe-3371a8c3a3e5",
   "metadata": {},
   "source": [
    "TOPIC: String Based Questions"
   ]
  },
  {
   "cell_type": "markdown",
   "id": "cfe5f361-dbc0-48b2-843a-00ef157c6590",
   "metadata": {},
   "source": [
    "1. Write a Python program that takes a string as input and prints the length of\n",
    "the string."
   ]
  },
  {
   "cell_type": "code",
   "execution_count": 27,
   "id": "3f5384b1-a115-4613-91b3-e2f4f513e17a",
   "metadata": {},
   "outputs": [
    {
     "name": "stdin",
     "output_type": "stream",
     "text": [
      "Enter a string: write a python code\n"
     ]
    },
    {
     "name": "stdout",
     "output_type": "stream",
     "text": [
      "length of the string 19\n"
     ]
    }
   ],
   "source": [
    "q=input(\"Enter a string:\")\n",
    "print(\"length of the string\",len(q))"
   ]
  },
  {
   "cell_type": "code",
   "execution_count": 30,
   "id": "ea921365-400e-4eb0-90db-57991f0cd080",
   "metadata": {},
   "outputs": [
    {
     "name": "stdin",
     "output_type": "stream",
     "text": [
      "enter a string: write a python code\n"
     ]
    },
    {
     "name": "stdout",
     "output_type": "stream",
     "text": [
      "length of the string 19\n"
     ]
    }
   ],
   "source": [
    "q=input(\"enter a string:\")\n",
    "a=len(q)\n",
    "print(\"length of the string\",a)"
   ]
  },
  {
   "cell_type": "markdown",
   "id": "9e81c898-ae21-4268-8452-ca703830bbaf",
   "metadata": {},
   "source": [
    "Create a program that takes a sentence from the user and counts the number\n",
    "of vowels (a, e, i, o, u) in the string."
   ]
  },
  {
   "cell_type": "code",
   "execution_count": 1,
   "id": "8bc619ee-2736-42a3-8fa7-bf46daf67f3f",
   "metadata": {},
   "outputs": [
    {
     "name": "stdin",
     "output_type": "stream",
     "text": [
      "type your sentence: I love python\n"
     ]
    },
    {
     "name": "stdout",
     "output_type": "stream",
     "text": [
      "number of vowels: 4\n"
     ]
    }
   ],
   "source": [
    "\n",
    "string = input(\"type your sentence:\")\n",
    "vowels = \"aeiouAEIOU\"\n",
    "count = sum(string.count(vowel) for vowel in vowels  )\n",
    "print(\"number of vowels:\",count)"
   ]
  },
  {
   "cell_type": "markdown",
   "id": "2b8d5bb4-5af2-490d-82c0-0fb8af300e62",
   "metadata": {},
   "source": [
    "Given a string, reverse the order of characters using string slicing and print the reversed string."
   ]
  },
  {
   "cell_type": "code",
   "execution_count": 7,
   "id": "1921b6e7-139d-4917-a820-d378f98f677b",
   "metadata": {},
   "outputs": [
    {
     "name": "stdin",
     "output_type": "stream",
     "text": [
      "Enter your sentence: any thought on\n"
     ]
    },
    {
     "name": "stdout",
     "output_type": "stream",
     "text": [
      "no thguoht yna\n"
     ]
    }
   ],
   "source": [
    "slicing=input(\"Enter your sentence:\")\n",
    "reversed_slicing=slicing[::-1]\n",
    "print(reversed_slicing)\n"
   ]
  },
  {
   "cell_type": "markdown",
   "id": "ba279a54-21d1-4d71-8978-a660ce106523",
   "metadata": {},
   "source": [
    "Write a program that takes a string as input and checks if it is a palindrome\n",
    "(reads the same forwards and backwards).\n"
   ]
  },
  {
   "cell_type": "code",
   "execution_count": 9,
   "id": "a84680ac-4d68-4014-82c7-a050d879ecae",
   "metadata": {},
   "outputs": [
    {
     "name": "stdin",
     "output_type": "stream",
     "text": [
      "Enter your sentence: wow\n"
     ]
    },
    {
     "name": "stdout",
     "output_type": "stream",
     "text": [
      "Yes\n"
     ]
    }
   ],
   "source": [
    "x =input(\"Enter your sentence:\")\n",
    " \n",
    "w = \"\"\n",
    "for i in x:\n",
    "    w = i + w\n",
    " \n",
    "if (x == w):\n",
    "    print(\"Yes\")\n",
    "else:\n",
    "    print(\"No\")"
   ]
  },
  {
   "cell_type": "code",
   "execution_count": null,
   "id": "137ca410-d657-4cbd-9fad-e94905b66b1d",
   "metadata": {},
   "outputs": [],
   "source": [
    "Create a program that takes a string as input and removes all the spaces from\n",
    "it. Print the modified string without spaces."
   ]
  },
  {
   "cell_type": "code",
   "execution_count": 11,
   "id": "cdeb9c56-4e44-4ca9-8c59-cda74d64322d",
   "metadata": {},
   "outputs": [
    {
     "name": "stdin",
     "output_type": "stream",
     "text": [
      "Enter your sentence: program to remove \n"
     ]
    },
    {
     "name": "stdout",
     "output_type": "stream",
     "text": [
      "String after removing all the white spaces : programtoremove\n"
     ]
    }
   ],
   "source": [
    "str1 =input( \"Enter your sentence:\") \n",
    "str1 = str1.replace(\" \",\"\");         \n",
    "print(\"String after removing all the white spaces : \" + str1);  "
   ]
  },
  {
   "cell_type": "code",
   "execution_count": null,
   "id": "47c2a3d5-075d-4a1a-a481-cee048514b7e",
   "metadata": {},
   "outputs": [],
   "source": []
  }
 ],
 "metadata": {
  "kernelspec": {
   "display_name": "Python 3 (ipykernel)",
   "language": "python",
   "name": "python3"
  },
  "language_info": {
   "codemirror_mode": {
    "name": "ipython",
    "version": 3
   },
   "file_extension": ".py",
   "mimetype": "text/x-python",
   "name": "python",
   "nbconvert_exporter": "python",
   "pygments_lexer": "ipython3",
   "version": "3.10.8"
  }
 },
 "nbformat": 4,
 "nbformat_minor": 5
}
